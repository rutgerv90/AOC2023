{
 "cells": [
  {
   "cell_type": "markdown",
   "metadata": {},
   "source": [
    "# --- Day 2: Cube Conundrum ---\n",
    "https://adventofcode.com/2023/day/2\n",
    "\n",
    "## --- Part One ---"
   ]
  },
  {
   "cell_type": "code",
   "execution_count": 19,
   "metadata": {},
   "outputs": [
    {
     "name": "stdout",
     "output_type": "stream",
     "text": [
      "2879\n"
     ]
    }
   ],
   "source": [
    "import re\n",
    "# init score list\n",
    "score = []\n",
    "maxRed = 12\n",
    "maxGreen = 13\n",
    "maxBlue = 14\n",
    "\n",
    "with open(\"input.txt\", 'r') as f:\n",
    "    lines = f.read().splitlines()\n",
    "    for line in lines:\n",
    "        # first the game id from the string\n",
    "        gameId =  int(re.match(r\"^Game (\\d+)\",line).group(1))\n",
    "        # get all amounts in an array for each color\n",
    "        greens = [int(x) for x in re.findall(r\"(\\d+)\\sgreen\",line, re.IGNORECASE)]\n",
    "        reds = [int(x) for x in re.findall(r\"(\\d+)\\sred\",line, re.IGNORECASE)]\n",
    "        blues = [int(x) for x in re.findall(r\"(\\d+)\\sblue\",line, re.IGNORECASE)]\n",
    "        # check if game is possible, i.e. falls within the set limits\n",
    "        if(max(greens) <= maxGreen and max(reds) <= maxRed and max(blues) <= maxBlue):\n",
    "            score.append(gameId)\n",
    "\n",
    "print(sum(score))"
   ]
  },
  {
   "cell_type": "markdown",
   "metadata": {},
   "source": [
    "## --- Part Two ---"
   ]
  },
  {
   "cell_type": "code",
   "execution_count": null,
   "metadata": {},
   "outputs": [],
   "source": [
    "import re\n",
    "# init score list\n",
    "score = []\n",
    "\n",
    "with open(\"input.txt\", 'r') as f:\n",
    "    lines = f.read().splitlines()\n",
    "    for line in lines:\n",
    "        # get all amounts in an array for each color\n",
    "        greens = [int(x) for x in re.findall(r\"(\\d+)\\sgreen\",line, re.IGNORECASE)]\n",
    "        reds = [int(x) for x in re.findall(r\"(\\d+)\\sred\",line, re.IGNORECASE)]\n",
    "        blues = [int(x) for x in re.findall(r\"(\\d+)\\sblue\",line, re.IGNORECASE)]\n",
    "        # check if game is possible, i.e. falls within the set limits\n",
    "        gameScore = max(greens)*max(reds)*max(blues)\n",
    "        score.append(gameScore)\n",
    "\n",
    "print(sum(score))"
   ]
  }
 ],
 "metadata": {
  "kernelspec": {
   "display_name": "Python 3",
   "language": "python",
   "name": "python3"
  },
  "language_info": {
   "codemirror_mode": {
    "name": "ipython",
    "version": 3
   },
   "file_extension": ".py",
   "mimetype": "text/x-python",
   "name": "python",
   "nbconvert_exporter": "python",
   "pygments_lexer": "ipython3",
   "version": "3.11.5"
  }
 },
 "nbformat": 4,
 "nbformat_minor": 2
}

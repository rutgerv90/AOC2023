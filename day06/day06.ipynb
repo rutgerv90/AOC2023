{
 "cells": [
  {
   "cell_type": "markdown",
   "metadata": {},
   "source": [
    "# --- Day 6: Wait For It ---\n",
    "https://adventofcode.com/2023/day/6\n",
    "\n",
    "## --- Part One ---"
   ]
  },
  {
   "cell_type": "code",
   "execution_count": 21,
   "metadata": {},
   "outputs": [
    {
     "name": "stdout",
     "output_type": "stream",
     "text": [
      "[41, 48, 19, 31]\n",
      "\n",
      "The answer to part 1 is: 1159152\n"
     ]
    }
   ],
   "source": [
    "# some imports i may need\n",
    "import re\n",
    "import math\n",
    "import numpy as np\n",
    "import pandas as pd\n",
    "\n",
    "time_data = []\n",
    "dist_data = []\n",
    "scores = []\n",
    "\n",
    "with open(\"input.txt\", 'r') as f:\n",
    "# with open(\"sample.txt\", 'r') as f:\n",
    "    lines = f.read().splitlines()\n",
    "    time_data = [int(x) for x in re.findall(r\"([\\d]+)\",lines[0])]\n",
    "    dist_data = [int(x) for x in re.findall(r\"([\\d]+)\",lines[1])]\n",
    "\n",
    "\"\"\"\n",
    "To see how much margin of error you have, determine the number of ways you can beat the record in each race; in this example, if you multiply these values together, you get 288 (4 * 8 * 9).\n",
    "\"\"\"\n",
    "\n",
    "# the boat will only between 1 and max-1\n",
    "for i,v in enumerate(time_data):\n",
    "    record_distance = dist_data[i]\n",
    "    breaks_record = 0\n",
    "    for x in range(1,v):\n",
    "        distance = (v-x)*x\n",
    "        if distance > record_distance:\n",
    "            breaks_record +=1\n",
    "    if record_distance > 0:\n",
    "        scores.append(breaks_record)\n",
    "\n",
    "# print minimum location\n",
    "print(\"\\nThe answer to part 1 is:\",np.prod(scores))"
   ]
  },
  {
   "cell_type": "markdown",
   "metadata": {},
   "source": [
    "## --- Part Two ---"
   ]
  },
  {
   "cell_type": "code",
   "execution_count": 2,
   "metadata": {},
   "outputs": [
    {
     "name": "stdout",
     "output_type": "stream",
     "text": [
      "\n",
      "The answer to part 2 is: 41513103\n"
     ]
    }
   ],
   "source": [
    "# some imports i may need\n",
    "import re\n",
    "import math\n",
    "import numpy as np\n",
    "import pandas as pd\n",
    "\n",
    "# init some vars\n",
    "max_time = 0\n",
    "record_dist = 0\n",
    "scores = []\n",
    "\n",
    "with open(\"input.txt\", 'r') as f:\n",
    "# with open(\"sample.txt\", 'r') as f:\n",
    "    lines = f.read().splitlines()\n",
    "    max_time = int(\"\".join(re.findall(r\"([\\d]+)\",lines[0])))\n",
    "    record_dist = int(\"\".join(re.findall(r\"([\\d]+)\",lines[1])))\n",
    "\n",
    "# start a counter\n",
    "breaks_record =0\n",
    "\n",
    "# do the same calculations as before just not on multiple elements of a loop\n",
    "for x in range(1,max_time):\n",
    "    distance = (max_time-x)*x\n",
    "    if distance > record_dist:\n",
    "        breaks_record +=1\n",
    "if record_dist > 0:\n",
    "    scores.append(breaks_record)\n",
    "\n",
    "# print minimum location\n",
    "print(\"\\nThe answer to part 2 is:\",breaks_record)"
   ]
  }
 ],
 "metadata": {
  "kernelspec": {
   "display_name": "Python 3",
   "language": "python",
   "name": "python3"
  },
  "language_info": {
   "codemirror_mode": {
    "name": "ipython",
    "version": 3
   },
   "file_extension": ".py",
   "mimetype": "text/x-python",
   "name": "python",
   "nbconvert_exporter": "python",
   "pygments_lexer": "ipython3",
   "version": "3.12.4"
  }
 },
 "nbformat": 4,
 "nbformat_minor": 2
}

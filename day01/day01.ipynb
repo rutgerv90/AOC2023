{
 "cells": [
  {
   "cell_type": "markdown",
   "metadata": {},
   "source": [
    "# Advent of Code 2023 Day 1\n",
    "https://adventofcode.com/2023/day/1\n",
    "\n",
    "## --- Part One ---"
   ]
  },
  {
   "cell_type": "code",
   "execution_count": 49,
   "metadata": {},
   "outputs": [
    {
     "name": "stdout",
     "output_type": "stream",
     "text": [
      "55971\n"
     ]
    }
   ],
   "source": [
    "score =[]\n",
    "\n",
    "with open(\"input.txt\", 'r') as f:\n",
    "    lines = f.read().splitlines()\n",
    "    for line in lines:\n",
    "        # convert the string into a char separated list\n",
    "        charList = list(line)\n",
    "        # create a temp array to hold info\n",
    "        temp = []\n",
    "        # loop over the charlist\n",
    "        for char in charList:\n",
    "        #    check if char is a digit\n",
    "           if(char.isdigit()):\n",
    "            #    append it to the array\n",
    "               temp.append(int(char))\n",
    "        # get the value by grabbing the first and list part, and joining them\n",
    "        val = int(''.join(map(str,[temp[0],temp[-1]])))\n",
    "        # append the value to the score\n",
    "        score.append(val)\n",
    "\n",
    "# print the sum of all scores\n",
    "print(sum(score))"
   ]
  },
  {
   "cell_type": "markdown",
   "metadata": {},
   "source": [
    "## --- Part Two ---"
   ]
  },
  {
   "cell_type": "code",
   "execution_count": 4,
   "metadata": {},
   "outputs": [
    {
     "name": "stdout",
     "output_type": "stream",
     "text": [
      "54719\n"
     ]
    }
   ],
   "source": [
    "import re\n",
    "# init a empty score list\n",
    "score = []\n",
    "# initialize a dict of nr and words with the corresponding value\n",
    "breakDict = {'1':1,'2':2,'3':3,'4':4,'5':5,'6':6,'7':7,'8':8,'9':9,'0':0,'one':1, 'two':2, 'three':3, 'four':4, 'five':5,'six':6, 'seven':7, 'eight':8, 'nine':9, 'zero':0}\n",
    "\n",
    "with open(\"input.txt\", 'r') as f:\n",
    "    lines = f.read().splitlines()\n",
    "    for line in lines:\n",
    "        # regex findall matches of the dict in the string\n",
    "        words =re.findall(r\"(?=(\"+'|'.join(breakDict)+r\"))\", line)\n",
    "        # convert the findings list into the correct values\n",
    "        valueList = [breakDict[word] for word in words]\n",
    "        \n",
    "        # now do the same as in part 1 to get to the score\n",
    "        val = int(''.join(map(str,[valueList[0],valueList[-1]])))\n",
    "        score.append(val)\n",
    "\n",
    "# print the sum of all scores\n",
    "print(sum(score))"
   ]
  }
 ],
 "metadata": {
  "kernelspec": {
   "display_name": "Python 3",
   "language": "python",
   "name": "python3"
  },
  "language_info": {
   "codemirror_mode": {
    "name": "ipython",
    "version": 3
   },
   "file_extension": ".py",
   "mimetype": "text/x-python",
   "name": "python",
   "nbconvert_exporter": "python",
   "pygments_lexer": "ipython3",
   "version": "3.11.5"
  }
 },
 "nbformat": 4,
 "nbformat_minor": 2
}

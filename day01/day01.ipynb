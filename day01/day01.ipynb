{
 "cells": [
  {
   "cell_type": "markdown",
   "metadata": {},
   "source": [
    "# Advent of Code 2023 Day 1\n",
    "https://adventofcode.com/2023/day/1\n",
    "\n",
    "--- Day 1: Trebuchet?! ---\n",
    "\n",
    "Something is wrong with global snow production, and you've been selected to take a look. The Elves have even given you a map; on it, they've used stars to mark the top fifty locations that are likely to be having problems.\n",
    "\n",
    "You've been doing this long enough to know that to restore snow operations, you need to check all fifty stars by December 25th.\n",
    "\n",
    "Collect stars by solving puzzles. Two puzzles will be made available on each day in the Advent calendar; the second puzzle is unlocked when you complete the first. Each puzzle grants one star. Good luck!\n",
    "\n",
    "You try to ask why they can't just use a weather machine (\"not powerful enough\") and where they're even sending you (\"the sky\") and why your map looks mostly blank (\"you sure ask a lot of questions\") and hang on did you just say the sky (\"of course, where do you think snow comes from\") when you realize that the Elves are already loading you into a trebuchet (\"please hold still, we need to strap you in\").\n",
    "\n",
    "As they're making the final adjustments, they discover that their calibration document (your puzzle input) has been amended by a very young Elf who was apparently just excited to show off her art skills. Consequently, the Elves are having trouble reading the values on the document.\n",
    "\n",
    "The newly-improved calibration document consists of lines of text; each line originally contained a specific calibration value that the Elves now need to recover. On each line, the calibration value can be found by combining the first digit and the last digit (in that order) to form a single two-digit number.\n",
    "\n",
    "For example:\n",
    "```\n",
    "1abc2\n",
    "pqr3stu8vwx\n",
    "a1b2c3d4e5f\n",
    "treb7uchet\n",
    "```\n",
    "\n",
    "In this example, the calibration values of these four lines are 12, 38, 15, and 77. Adding these together produces 142.\n",
    "\n",
    "Consider your entire calibration document. What is the sum of all of the calibration values?"
   ]
  },
  {
   "cell_type": "code",
   "execution_count": 49,
   "metadata": {},
   "outputs": [
    {
     "name": "stdout",
     "output_type": "stream",
     "text": [
      "55971\n"
     ]
    }
   ],
   "source": [
    "score =[]\n",
    "\n",
    "with open(\"input.txt\", 'r') as f:\n",
    "    lines = f.read().splitlines()\n",
    "    for line in lines:\n",
    "        # convert the string into a char separated list\n",
    "        charList = list(line)\n",
    "        # create a temp array to hold info\n",
    "        temp = []\n",
    "        # loop over the charlist\n",
    "        for char in charList:\n",
    "        #    check if char is a digit\n",
    "           if(char.isdigit()):\n",
    "            #    append it to the array\n",
    "               temp.append(int(char))\n",
    "        # get the value by grabbing the first and list part, and joining them\n",
    "        val = int(''.join(map(str,[temp[0],temp[-1]])))\n",
    "        # append the value to the score\n",
    "        score.append(val)\n",
    "\n",
    "# print the sum of all scores\n",
    "print(sum(score))"
   ]
  },
  {
   "cell_type": "markdown",
   "metadata": {},
   "source": [
    "## --- Part Two ---\n",
    "Your calculation isn't quite right. It looks like some of the digits are actually spelled out with letters: one, two, three, four, five, six, seven, eight, and nine also count as valid \"digits\".\n",
    "\n",
    "Equipped with this new information, you now need to find the real first and last digit on each line. For example:\n",
    "```\n",
    "two1nine\n",
    "eightwothree\n",
    "abcone2threexyz\n",
    "xtwone3four\n",
    "4nineeightseven2\n",
    "zoneight234\n",
    "7pqrstsixteen\n",
    "```\n",
    "In this example, the calibration values are 29, 83, 13, 24, 42, 14, and 76. Adding these together produces 281.\n",
    "\n",
    "**What is the sum of all of the calibration values?**"
   ]
  },
  {
   "cell_type": "code",
   "execution_count": 65,
   "metadata": {},
   "outputs": [
    {
     "name": "stdout",
     "output_type": "stream",
     "text": [
      "54719\n"
     ]
    }
   ],
   "source": [
    "import re\n",
    "# init a empty score list\n",
    "score = []\n",
    "# initialize a dict of nr and words with the corresponding value\n",
    "breakDict = {'1':1,'2':2,'3':3,'4':4,'5':5,'6':6,'7':7,'8':8,'9':9,'0':0,'one':1, 'two':2, 'three':3, 'four':4, 'five':5,'six':6, 'seven':7, 'eight':8, 'nine':9, 'zero':0}\n",
    "\n",
    "with open(\"input.txt\", 'r') as f:\n",
    "    lines = f.read().splitlines()\n",
    "    for line in lines:\n",
    "        # regex findall matches of the dict in the string\n",
    "        words =re.findall(r\"(?=(\"+'|'.join(breakDict)+r\"))\", line)\n",
    "        # convert the findings list into the correct values\n",
    "        valueList = [breakDict[word] for word in words]\n",
    "        \n",
    "        # now do the same as in part 1 to get to the score\n",
    "        val = int(''.join(map(str,[valueList[0],valueList[-1]])))\n",
    "        score.append(val)\n",
    "\n",
    "# print the sum of all scores\n",
    "print(sum(score))"
   ]
  }
 ],
 "metadata": {
  "kernelspec": {
   "display_name": "Python 3",
   "language": "python",
   "name": "python3"
  },
  "language_info": {
   "codemirror_mode": {
    "name": "ipython",
    "version": 3
   },
   "file_extension": ".py",
   "mimetype": "text/x-python",
   "name": "python",
   "nbconvert_exporter": "python",
   "pygments_lexer": "ipython3",
   "version": "3.11.5"
  }
 },
 "nbformat": 4,
 "nbformat_minor": 2
}

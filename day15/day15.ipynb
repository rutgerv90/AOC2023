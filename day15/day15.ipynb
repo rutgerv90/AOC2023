{
 "cells": [
  {
   "cell_type": "markdown",
   "metadata": {},
   "source": [
    "# --- Day 15: Lens Library ---\n",
    "https://adventofcode.com/2023/day/15\n",
    "\n",
    "## --- Part One ---"
   ]
  },
  {
   "cell_type": "code",
   "execution_count": 115,
   "metadata": {},
   "outputs": [
    {
     "name": "stdout",
     "output_type": "stream",
     "text": [
      "The answer to part 1 is: 505459\n"
     ]
    }
   ],
   "source": [
    "import numpy as np\n",
    "from collections import Counter\n",
    "\n",
    "# hold the patterns\n",
    "data = []\n",
    "\n",
    "# load data\n",
    "with open(\"input.txt\", \"r\") as f:\n",
    "# with open(\"sample.txt\", \"r\") as f:\n",
    "    data = f.read().split(',')\n",
    "\n",
    "# collect total score\n",
    "total_scores= []\n",
    "\n",
    "# run this for all items in data\n",
    "for item in data:\n",
    "    current_value = 0\n",
    "    for char in item:\n",
    "        # get the ascii value of the char\n",
    "        current_value += ord(char)\n",
    "        current_value = (current_value*17)%256\n",
    "    # append total score\n",
    "    total_scores.append(current_value)\n",
    "\n",
    "print(\"The answer to part 1 is:\",sum(total_scores))"
   ]
  },
  {
   "cell_type": "markdown",
   "metadata": {},
   "source": [
    "## --- Part Two ---"
   ]
  },
  {
   "cell_type": "code",
   "execution_count": 116,
   "metadata": {},
   "outputs": [
    {
     "name": "stdout",
     "output_type": "stream",
     "text": [
      "The answer to part 2 is: 228508\n"
     ]
    }
   ],
   "source": [
    "import numpy as np\n",
    "from collections import Counter, deque\n",
    "import re\n",
    "\n",
    "# hold the patterns\n",
    "data = []\n",
    "\n",
    "def calc_hash_value(label):\n",
    "    current_value = 0\n",
    "    for char in label:\n",
    "        # get the ascii value of the char\n",
    "        current_value += ord(char)\n",
    "        current_value = (current_value*17)%256\n",
    "    # append total score\n",
    "    return current_value\n",
    "\n",
    "# load data\n",
    "with open(\"input.txt\", \"r\") as f:\n",
    "# with open(\"sample.txt\", \"r\") as f:\n",
    "    lines = f.read().split(',')\n",
    "    for line in lines:\n",
    "        # regex match the input to seperate the data \n",
    "        x= re.match(r\"([a-z]+)([\\=\\-]){1}(\\d)*\", line)\n",
    "        focal_length = x.group(3)\n",
    "        # set focal length\n",
    "        if focal_length == None:\n",
    "            focal_length = 0\n",
    "        else:\n",
    "            focal_length = int(focal_length)\n",
    "        # create a object with all the data\n",
    "        out = {'label':x.group(1),'operator':x.group(2),'focal':focal_length,'box':calc_hash_value(x.group(1))}\n",
    "        data.append(out)\n",
    "\n",
    "# initiate the 256 boxes\n",
    "boxes = []\n",
    "for i in range(0,256):\n",
    "    boxes.append([])\n",
    "\n",
    "for item in data:\n",
    "    # first check the operator\n",
    "    if item['operator'] == '=':\n",
    "        added = False # create a flag\n",
    "        # append item to the right box\n",
    "        for i2,v2 in enumerate(boxes[item['box']]):\n",
    "            # if item is in the box already, replace it at that position\n",
    "            if v2['label'] == item['label']:\n",
    "                boxes[item['box']][i2] = item\n",
    "                added = True\n",
    "                break\n",
    "        # if not present already add it to the end\n",
    "        if not added:\n",
    "            boxes[item['box']].append(item)\n",
    "    else:\n",
    "        # operator is minus; go to box of that number and remove the item\n",
    "        for i2,v2 in enumerate(boxes[item['box']]):\n",
    "            if v2['label'] == item['label']:\n",
    "                boxes[item['box']].pop(i2)\n",
    "                break\n",
    "\n",
    "# collect total score\n",
    "total_scores= []\n",
    "\n",
    "# loop through all the boxes\n",
    "for boxnr,box in enumerate(boxes):\n",
    "    # ignore the empty ones\n",
    "    if len(box) >0:\n",
    "        # for each item calculat the score and append it to the toal\n",
    "        for item_idx,item in enumerate(box):\n",
    "            # rn: 1 (box 0) * 1 (first slot) * 1 (focal length) = 1\n",
    "            score = (boxnr+1) *(item_idx+1)*item['focal']\n",
    "            total_scores.append(score)\n",
    "\n",
    "\n",
    "print(\"The answer to part 2 is:\",sum(total_scores))"
   ]
  }
 ],
 "metadata": {
  "kernelspec": {
   "display_name": "Python 3",
   "language": "python",
   "name": "python3"
  },
  "language_info": {
   "codemirror_mode": {
    "name": "ipython",
    "version": 3
   },
   "file_extension": ".py",
   "mimetype": "text/x-python",
   "name": "python",
   "nbconvert_exporter": "python",
   "pygments_lexer": "ipython3",
   "version": "3.11.5"
  }
 },
 "nbformat": 4,
 "nbformat_minor": 2
}

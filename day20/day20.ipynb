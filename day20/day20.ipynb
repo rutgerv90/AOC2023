{
 "cells": [
  {
   "cell_type": "markdown",
   "metadata": {},
   "source": [
    "# --- Day 20: Pulse Propagation ---\n",
    "https://adventofcode.com/2023/day/20\n",
    "\n",
    "## --- Part One ---"
   ]
  },
  {
   "cell_type": "code",
   "execution_count": 32,
   "metadata": {},
   "outputs": [
    {
     "name": "stdout",
     "output_type": "stream",
     "text": [
      "{'type': '%', 'out': ['b'], 'on': True}\n"
     ]
    }
   ],
   "source": [
    "import numpy as np\n",
    "import math\n",
    "import re\n",
    "\n",
    "# hold the patterns\n",
    "nodes = {}\n",
    "\n",
    "\n",
    "# load data\n",
    "# with open(\"input.txt\", \"r\") as f:\n",
    "with open(\"sample.txt\", \"r\") as f:\n",
    "# with open(\"sample2.txt\", \"r\") as f:\n",
    "    lines = f.read().splitlines()\n",
    "    for line in lines:\n",
    "        [p1, p2] = (line.split(' -> '))\n",
    "        p2 = p2.split(', ')\n",
    "        # for broadcaster nodes\n",
    "        if p1 == 'broadcaster':\n",
    "            nodes[p1] = {'out':p2,'type':'broadcaster'}\n",
    "        else:\n",
    "            xType=p1[0]\n",
    "            xName=p1[1:]\n",
    "            nodes[xName] = {\"type\":xType, \"out\":p2, \"on\":False}\n",
    "\n",
    "\n",
    "\n",
    "def sendSignal(name, signal):\n",
    "    signalStack.append([name, signal])\n",
    "\n",
    "\n",
    "# signal format = ['node_name',0|1 (low/high pulse)]\n",
    "signalStack = [['a',0]] # stack of signals starting with the broadcaster\n",
    "\n",
    "for signal in signalStack:\n",
    "    si = nodes[signal[0]]\n",
    "    inc_signal = signal[1]\n",
    "    out_signal = inc_signal\n",
    "    for out in si['out']:\n",
    "        # processing % nodes\n",
    "        if si['type'] == \"%\":\n",
    "            \"\"\"\n",
    "            Flip-flop modules (prefix %) are either on or off; they are initially off. If a flip-flop module receives a high pulse, it is ignored and nothing happens. However, if a flip-flop module receives a low pulse, it flips between on and off. If it was off, it turns on and sends a high pulse. If it was on, it turns off and sends a low pulse.\n",
    "            \"\"\"\n",
    "            if inc_signal == 1:\n",
    "                continue\n",
    "            else:\n",
    "                if si['on'] == False:\n",
    "                    si['on'] = True\n",
    "                    out_signal = 1\n",
    "                else:\n",
    "                    si['on'] = False\n",
    "                    out_signal = 0\n",
    "                sendSignal(out, out_signal)\n",
    "        # processing % nodes\n",
    "        elif si['type'] == \"&\":\n",
    "            \"\"\"\n",
    "            Conjunction modules (prefix &) remember the type of the most recent pulse received from each of their connected input modules; they initially default to remembering a low pulse for each input. When a pulse is received, the conjunction module first updates its memory for that input. Then, if it remembers high pulses for all inputs, it sends a low pulse; otherwise, it sends a high pulse.\n",
    "            \"\"\"\n",
    "\n",
    "                \n",
    "\n",
    "\n"
   ]
  },
  {
   "cell_type": "code",
   "execution_count": null,
   "metadata": {},
   "outputs": [],
   "source": [
    "import numpy as np\n",
    "import math\n",
    "import re\n",
    "\n",
    "# hold the patterns\n",
    "rules = {}\n",
    "data = []\n",
    "\n",
    "\n",
    "# load data\n",
    "# with open(\"input.txt\", \"r\") as f:\n",
    "with open(\"sample.txt\", \"r\") as f:\n",
    "    # split input in 2 parts: rules and the data\n",
    "    [input_rules, input_data] = f.read().split('\\n\\n')\n",
    "    # lets do data first: consistent structure\n",
    "    for line in input_data.splitlines():\n",
    "        # extract all numbers and add them, its consistent across and no minus numbers so thats easy\n",
    "        data.append([int(x) for x in re.findall(r\"\\d+\",line)])\n",
    "    for line in input_rules.splitlines():\n",
    "        # to extract the data we're gonna do some regex\n",
    "        x = re.match(r\"^(\\w+)\\{(.*)\\}{1}$\",line)\n",
    "        rule_name = x.group(1)\n",
    "        # split the string between {} on the ',' to separate the local rules\n",
    "        local_rules = x.group(2).split(',')\n",
    "        # append it to that rule in the rulebook\n",
    "        rules[rule_name] = local_rules"
   ]
  }
 ],
 "metadata": {
  "kernelspec": {
   "display_name": "Python 3",
   "language": "python",
   "name": "python3"
  },
  "language_info": {
   "codemirror_mode": {
    "name": "ipython",
    "version": 3
   },
   "file_extension": ".py",
   "mimetype": "text/x-python",
   "name": "python",
   "nbconvert_exporter": "python",
   "pygments_lexer": "ipython3",
   "version": "3.11.5"
  }
 },
 "nbformat": 4,
 "nbformat_minor": 2
}

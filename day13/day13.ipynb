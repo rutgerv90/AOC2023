{
 "cells": [
  {
   "cell_type": "markdown",
   "metadata": {},
   "source": [
    "# --- Day 13: Point of Incidence ---\n",
    "https://adventofcode.com/2023/day/13\n",
    "\n",
    "## --- Part One ---"
   ]
  },
  {
   "cell_type": "code",
   "execution_count": 287,
   "metadata": {},
   "outputs": [
    {
     "name": "stdout",
     "output_type": "stream",
     "text": [
      "Answer to part 1 is 37025\n"
     ]
    }
   ],
   "source": [
    "import numpy as np\n",
    "\n",
    "# hold the patterns\n",
    "patterns = []\n",
    "\n",
    "# load data\n",
    "with open(\"input.txt\", \"r\") as f:\n",
    "# with open(\"sample.txt\", \"r\") as f:\n",
    "    patterns = [line.splitlines() for line in f.read().split(\"\\n\\n\")]\n",
    "\n",
    "# function to transpose data, flipping it so the vertical check can be done by the horizontal check func\n",
    "def transpose_data(data:list):\n",
    "    # we do some conversions below and use the numpy transpose function to do it \n",
    "    cols = len(data)\n",
    "    tt =[]\n",
    "    for i in data:\n",
    "        tt.append([char for char in i])\n",
    "    tt = \"\".join(np.array(tt).transpose().flatten())\n",
    "    # construct out lis with similar structure as the incoming one\n",
    "    out = [tt[i:i+cols] for i in range(0, len(tt), cols)]\n",
    "    return out\n",
    "\n",
    "def mirrority_report(data:list, transpose:bool):\n",
    "    # convert data if transpose flag is found\n",
    "    if transpose:\n",
    "        data = transpose_data(data)\n",
    "    rows = len(data)\n",
    "    # loop through the rows\n",
    "    for i in range(0,rows):\n",
    "        # get the left and right slices\n",
    "        left = data[:i]\n",
    "        right= data[i:]\n",
    "        # we're comparing the minimum amount of chars between those two\n",
    "        compare = min([len(left),len(right)])\n",
    "        # if it's 0 just skip\n",
    "        if compare == 0:\n",
    "            continue\n",
    "        # get the chunks left and right\n",
    "        leftchunk = left[-compare:]\n",
    "        rightchunk = right[:compare]\n",
    "        # make it strings\n",
    "        leftString = \"\".join(leftchunk)\n",
    "        # reverse the right chunk before converting to string so it matches the left\n",
    "        rightString = \"\".join(list(reversed(rightchunk)))\n",
    "        # if it matches return 1\n",
    "        if leftString == rightString:\n",
    "            return i\n",
    "    return 0\n",
    "\n",
    "scores =[]\n",
    "# loop through the patterns\n",
    "for pattern in patterns:\n",
    "    # score them on horizontal/vertical mirror\n",
    "    hscore  = mirrority_report(pattern,False)*100\n",
    "    vscore  = mirrority_report(pattern,True)\n",
    "    # append the sum of the score\n",
    "    scores.append(sum([hscore,vscore]))\n",
    "\n",
    "print('Answer to part 1 is', sum(scores))"
   ]
  },
  {
   "cell_type": "markdown",
   "metadata": {},
   "source": [
    "## --- Part Two ---"
   ]
  },
  {
   "cell_type": "code",
   "execution_count": 301,
   "metadata": {},
   "outputs": [
    {
     "name": "stdout",
     "output_type": "stream",
     "text": [
      "Answer to part 1 is 32854\n"
     ]
    }
   ],
   "source": [
    "import numpy as np\n",
    "\n",
    "# hold the patterns\n",
    "patterns = []\n",
    "\n",
    "# load data\n",
    "with open(\"input.txt\", \"r\") as f:\n",
    "# with open(\"sample.txt\", \"r\") as f:\n",
    "    patterns = [line.splitlines() for line in f.read().split(\"\\n\\n\")]\n",
    "\n",
    "# function to transpose data, flipping it so the vertical check can be done by the horizontal check func\n",
    "def transpose_data(data:list):\n",
    "    # we do some conversions below and use the numpy transpose function to do it \n",
    "    cols = len(data)\n",
    "    tt =[]\n",
    "    for i in data:\n",
    "        tt.append([char for char in i])\n",
    "    tt = \"\".join(np.array(tt).transpose().flatten())\n",
    "    # construct out lis with similar structure as the incoming one\n",
    "    out = [tt[i:i+cols] for i in range(0, len(tt), cols)]\n",
    "    return out\n",
    "\n",
    "# NEW FOR PART 2\n",
    "def check_with_error_margin(left, right, margin:int):\n",
    "    # look for number of differences between strings\n",
    "    errors = 0\n",
    "    # we now check for when there's errors == margin\n",
    "    for i in range(0,len(left)): # should be equal length\n",
    "        if left[i] != right[i]:\n",
    "            errors+=1\n",
    "    return errors == margin\n",
    "\n",
    "def mirrority_report(data:list, transpose:bool):\n",
    "    # convert data if transpose flag is found\n",
    "    if transpose:\n",
    "        data = transpose_data(data)\n",
    "    rows = len(data)\n",
    "    # loop through the rows\n",
    "    for i in range(0,rows):\n",
    "        # get the left and right slices\n",
    "        left = data[:i]\n",
    "        right= data[i:]\n",
    "        # we're comparing the minimum amount of chars between those two\n",
    "        compare = min([len(left),len(right)])\n",
    "        # if it's 0 just skip\n",
    "        if compare == 0:\n",
    "            continue\n",
    "        # get the chunks left and right\n",
    "        leftchunk = left[-compare:]\n",
    "        rightchunk = right[:compare]\n",
    "        # make it strings\n",
    "        leftString = \"\".join(leftchunk)\n",
    "        # reverse the right chunk before converting to string so it matches the left\n",
    "        rightString = \"\".join(list(reversed(rightchunk)))\n",
    "        # if it matches return 1\n",
    "        if check_with_error_margin(leftString, rightString, 1):\n",
    "            return i\n",
    "    return 0\n",
    "\n",
    "scores =[]\n",
    "# loop through the patterns\n",
    "for pattern in patterns:\n",
    "    # score them on horizontal/vertical mirror\n",
    "    hscore  = mirrority_report(pattern,False)*100\n",
    "    vscore  = mirrority_report(pattern,True)\n",
    "    # append the sum of the score\n",
    "    scores.append(sum([hscore,vscore]))\n",
    "\n",
    "print('Answer to part 1 is', sum(scores))"
   ]
  }
 ],
 "metadata": {
  "kernelspec": {
   "display_name": "Python 3",
   "language": "python",
   "name": "python3"
  },
  "language_info": {
   "codemirror_mode": {
    "name": "ipython",
    "version": 3
   },
   "file_extension": ".py",
   "mimetype": "text/x-python",
   "name": "python",
   "nbconvert_exporter": "python",
   "pygments_lexer": "ipython3",
   "version": "3.11.5"
  }
 },
 "nbformat": 4,
 "nbformat_minor": 2
}

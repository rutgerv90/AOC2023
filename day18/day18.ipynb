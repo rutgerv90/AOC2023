{
 "cells": [
  {
   "cell_type": "markdown",
   "metadata": {},
   "source": [
    "# --- Day 18: Lavaduct Lagoon ---\n",
    "https://adventofcode.com/2023/day/18\n",
    "\n",
    "## --- Part One ---"
   ]
  },
  {
   "cell_type": "code",
   "execution_count": 141,
   "metadata": {},
   "outputs": [
    {
     "name": "stdout",
     "output_type": "stream",
     "text": [
      "The answer to part 1 is: 35244\n"
     ]
    }
   ],
   "source": [
    "import numpy as np\n",
    "import math\n",
    "from collections import Counter\n",
    "import re\n",
    "import matplotlib.pyplot as plt\n",
    "from skimage.morphology import flood_fill\n",
    "\n",
    "# hold the patterns\n",
    "data = []\n",
    "\n",
    "\n",
    "# load data\n",
    "# with open(\"sample.txt\", \"r\") as f:\n",
    "with open(\"input.txt\", \"r\") as f:\n",
    "    lines = f.read().splitlines()\n",
    "    for line in lines:\n",
    "        x = re.match(r\"^([\\w]{1})\\s([\\d]+)\\s\\((.*)\\)$\",line)\n",
    "        direction = x.group(1)\n",
    "        size = int(x.group(2))\n",
    "        hexColor = x.group(3)\n",
    "        # extract the data and put it into an object\n",
    "        out = {'dir':direction,'size':size,'color':hexColor}\n",
    "        data.append(out)\n",
    "\n",
    "grid = []\n",
    "\n",
    "# dirs values\n",
    "dirs = {'U':[-1,0],'D':[1,0],'L':[0,-1],'R':[0,1]}\n",
    "\n",
    "# constructing a grid\n",
    "cLoc = [0,0] # track current location\n",
    "for item in data:\n",
    "    for i in range(0,item['size']):\n",
    "        cLoc =np.add(cLoc,dirs[item['dir']])\n",
    "        grid.append(list(cLoc))\n",
    "\n",
    "# find the min and max values\n",
    "minRow = min(grid, key=lambda x: x[0])[0]\n",
    "maxRow = max(grid, key=lambda x: x[0])[0]\n",
    "minCol = min(grid, key=lambda x: x[1])[1]\n",
    "maxCol = max(grid, key=lambda x: x[1])[1]\n",
    "\n",
    "# print(minRow,maxRow, minCol,maxCol)\n",
    "# updated zeroes grid that matches the original\n",
    "grid2 = np.zeros((maxRow+abs(minRow)+1,abs(minCol)+maxCol+1))\n",
    "\n",
    "# enter data in the zeroes grid offset by the minus values\n",
    "for item in grid:\n",
    "    grid2[item[0]+abs(minRow),item[1]+abs(minCol)] =1\n",
    "\n",
    "# use flood fill on a enclosed ppoint to get the total space\n",
    "fgrid2 = flood_fill(grid2, (113,4),2)\n",
    "print(\"The answer to part 1 is:\",np.count_nonzero(fgrid2))"
   ]
  },
  {
   "cell_type": "markdown",
   "metadata": {},
   "source": [
    "## --- Part Two ---"
   ]
  },
  {
   "cell_type": "code",
   "execution_count": 172,
   "metadata": {},
   "outputs": [
    {
     "name": "stdout",
     "output_type": "stream",
     "text": [
      "{'U': [829975, 686074, 500254], 'D': [56407, 863240, 266681, 829975], 'L': [577262, 112010, 491645, 5411], 'R': [461937, 356671, 367720]}\n",
      "142428383919555050\n",
      "2155517932058183474600\n",
      "351045045213780610\n",
      "298450123185480\n",
      "Idk how to do part 2, perhaps something with finding the lcm and quadratic math i forgot about since uni :p\n",
      "doing it the way of part 1 would require like 10-50TB of memory\n"
     ]
    },
    {
     "ename": "RuntimeError",
     "evalue": "No active exception to reraise",
     "output_type": "error",
     "traceback": [
      "\u001b[1;31m---------------------------------------------------------------------------\u001b[0m",
      "\u001b[1;31mRuntimeError\u001b[0m                              Traceback (most recent call last)",
      "Cell \u001b[1;32mIn[172], line 45\u001b[0m\n\u001b[0;32m     42\u001b[0m \u001b[38;5;28mprint\u001b[39m(\u001b[38;5;124m\"\u001b[39m\u001b[38;5;124mIdk how to do part 2, perhaps something with finding the lcm and quadratic math i forgot about since uni :p\u001b[39m\u001b[38;5;124m\"\u001b[39m)\n\u001b[0;32m     43\u001b[0m \u001b[38;5;28mprint\u001b[39m(\u001b[38;5;124m\"\u001b[39m\u001b[38;5;124mdoing it the way of part 1 would require like 10-50TB of memory\u001b[39m\u001b[38;5;124m\"\u001b[39m)\n\u001b[1;32m---> 45\u001b[0m \u001b[38;5;28;01mraise\u001b[39;00m\n\u001b[0;32m     47\u001b[0m \u001b[38;5;66;03m# dirs values\u001b[39;00m\n\u001b[0;32m     48\u001b[0m dirs \u001b[38;5;241m=\u001b[39m {\u001b[38;5;124m\"\u001b[39m\u001b[38;5;124mU\u001b[39m\u001b[38;5;124m\"\u001b[39m: [\u001b[38;5;241m-\u001b[39m\u001b[38;5;241m1\u001b[39m, \u001b[38;5;241m0\u001b[39m], \u001b[38;5;124m\"\u001b[39m\u001b[38;5;124mD\u001b[39m\u001b[38;5;124m\"\u001b[39m: [\u001b[38;5;241m1\u001b[39m, \u001b[38;5;241m0\u001b[39m], \u001b[38;5;124m\"\u001b[39m\u001b[38;5;124mL\u001b[39m\u001b[38;5;124m\"\u001b[39m: [\u001b[38;5;241m0\u001b[39m, \u001b[38;5;241m-\u001b[39m\u001b[38;5;241m1\u001b[39m], \u001b[38;5;124m\"\u001b[39m\u001b[38;5;124mR\u001b[39m\u001b[38;5;124m\"\u001b[39m: [\u001b[38;5;241m0\u001b[39m, \u001b[38;5;241m1\u001b[39m]}\n",
      "\u001b[1;31mRuntimeError\u001b[0m: No active exception to reraise"
     ]
    }
   ],
   "source": [
    "import numpy as np\n",
    "import math\n",
    "from collections import Counter\n",
    "import re\n",
    "import matplotlib.pyplot as plt\n",
    "from skimage.morphology import flood_fill\n",
    "\n",
    "# hold the patterns\n",
    "data = []\n",
    "\n",
    "# 0 means R, 1 means D, 2 means L, and 3 means U.\n",
    "nr2Color = {0: \"R\", 1: \"D\", 2: \"L\", 3: \"U\"}\n",
    "\n",
    "sizes = {'U':[],'D':[],'L':[],'R':[]}\n",
    "\n",
    "# load data\n",
    "with open(\"sample.txt\", \"r\") as f:\n",
    "    # with open(\"input.txt\", \"r\") as f:\n",
    "    lines = f.read().splitlines()\n",
    "    for line in lines:\n",
    "        x = re.match(r\"^([\\w]{1})\\s([\\d]+)\\s\\(#(.*)\\)$\", line)\n",
    "        # ===== CHANGES FOR PART 2 =====\n",
    "        hexColor = x.group(3)\n",
    "        # direction is now based on the last hex value\n",
    "        direction = nr2Color[int(hexColor[-1])]\n",
    "        # size is based on the 5 chars, (converted to int,base16)\n",
    "        size = int(hexColor[0:-1],16)\n",
    "\n",
    "        # extract the data and put it into an object\n",
    "        out = {\"dir\": direction, \"size\": size}\n",
    "        sizes[direction].append(size)\n",
    "        data.append(out)\n",
    "\n",
    "grid = []\n",
    "\n",
    "\n",
    "print(sizes)\n",
    "for key in sizes:\n",
    "    print(math.lcm(*sizes[key]))\n",
    "\n",
    "\n",
    "print(\"Idk how to do part 2, perhaps something with finding the lcm and quadratic math i forgot about since uni :p\")\n",
    "print(\"doing it the way of part 1 would require like 10-50TB of memory\")\n",
    "\n",
    "raise\n",
    "\n",
    "# dirs values\n",
    "dirs = {\"U\": [-1, 0], \"D\": [1, 0], \"L\": [0, -1], \"R\": [0, 1]}\n",
    "\n",
    "# constructing a grid\n",
    "cLoc = [0, 0]  # track current location\n",
    "for item in data:\n",
    "    for i in range(0, item[\"size\"]):\n",
    "        cLoc = np.add(cLoc, dirs[item[\"dir\"]])\n",
    "        grid.append(list(cLoc))\n",
    "\n",
    "# find the min and max values\n",
    "minRow = min(grid, key=lambda x: x[0])[0]\n",
    "maxRow = max(grid, key=lambda x: x[0])[0]\n",
    "minCol = min(grid, key=lambda x: x[1])[1]\n",
    "maxCol = max(grid, key=lambda x: x[1])[1]\n",
    "\n",
    "# print(minRow,maxRow, minCol,maxCol)\n",
    "# updated zeroes grid that matches the original\n",
    "grid2 = np.zeros((maxRow + abs(minRow) + 1, abs(minCol) + maxCol + 1))\n",
    "\n",
    "# enter data in the zeroes grid offset by the minus values\n",
    "for item in grid:\n",
    "    grid2[item[0] + abs(minRow), item[1] + abs(minCol)] = 1\n",
    "\n",
    "raise\n",
    "# use flood fill on a enclosed ppoint to get the total space\n",
    "fgrid2 = flood_fill(grid2, (113, 4), 2)\n",
    "print(\"The answer to part 1 is:\", np.count_nonzero(fgrid2))"
   ]
  }
 ],
 "metadata": {
  "kernelspec": {
   "display_name": "Python 3",
   "language": "python",
   "name": "python3"
  },
  "language_info": {
   "codemirror_mode": {
    "name": "ipython",
    "version": 3
   },
   "file_extension": ".py",
   "mimetype": "text/x-python",
   "name": "python",
   "nbconvert_exporter": "python",
   "pygments_lexer": "ipython3",
   "version": "3.11.5"
  }
 },
 "nbformat": 4,
 "nbformat_minor": 2
}

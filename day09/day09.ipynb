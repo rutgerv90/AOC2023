{
 "cells": [
  {
   "cell_type": "markdown",
   "metadata": {},
   "source": [
    "# --- Day 9: Mirage Maintenance ---\n",
    "https://adventofcode.com/2023/day/9\n",
    "\n",
    "## --- Part One ---"
   ]
  },
  {
   "cell_type": "code",
   "execution_count": 72,
   "metadata": {},
   "outputs": [
    {
     "name": "stdout",
     "output_type": "stream",
     "text": [
      "The answer to part 1 is: 2005352194\n"
     ]
    }
   ],
   "source": [
    "# some imports I may need\n",
    "import numpy as np\n",
    "\n",
    "data = []\n",
    "scores = []\n",
    "\n",
    "with open(\"input.txt\", \"r\") as f:\n",
    "# with open(\"sample.txt\", \"r\") as f:\n",
    "    lines = f.read().splitlines()\n",
    "    for line in lines:\n",
    "        data.append([int(x) for x in line.split(' ')])\n",
    "\n",
    "\n",
    "# recursive function to calcuate the missing value\n",
    "def calc_missing_value(incoming,history):\n",
    "    # init new hold list\n",
    "    hold = []\n",
    "    # we're looping through the list of incoming nr -the last one and append the differences in the hold list\n",
    "    for i in range(0,len(incoming)-1):\n",
    "        hold.append(incoming[i+1]-incoming[i])\n",
    "    # if the hold list only contains zeroes we are done\n",
    "    if not np.any(hold):\n",
    "        # track results\n",
    "        r = 0\n",
    "        # add the last items of each list (in reverse) to each other\n",
    "        for line in reversed(history):\n",
    "            r += line.pop()\n",
    "        # return the value\n",
    "        return r\n",
    "    # if not done go again\n",
    "    else:\n",
    "        # append the hold to the existing history list\n",
    "        history.append(hold)\n",
    "        # call the function again\n",
    "        return calc_missing_value(hold, history)\n",
    "\n",
    "# loop through the data\n",
    "for idx,line in enumerate(data):\n",
    "    # find the score for the line\n",
    "    score =calc_missing_value(line,[line])\n",
    "    # append it to the list\n",
    "    scores.append(score)\n",
    "\n",
    "print(\"The answer to part 1 is:\",sum(scores))"
   ]
  },
  {
   "cell_type": "markdown",
   "metadata": {},
   "source": [
    "## --- Part Two ---"
   ]
  },
  {
   "cell_type": "code",
   "execution_count": 73,
   "metadata": {},
   "outputs": [
    {
     "name": "stdout",
     "output_type": "stream",
     "text": [
      "The answer to part 2 is: 1077\n"
     ]
    }
   ],
   "source": [
    "# some imports I may need\n",
    "import numpy as np\n",
    "\n",
    "data = []\n",
    "scores = []\n",
    "\n",
    "with open(\"input.txt\", \"r\") as f:\n",
    "# with open(\"sample.txt\", \"r\") as f:\n",
    "    lines = f.read().splitlines()\n",
    "    for line in lines:\n",
    "        data.append([int(x) for x in line.split(' ')])\n",
    "\n",
    "\n",
    "# recursive function to calcuate the missing value\n",
    "def calc_missing_value(incoming,history):\n",
    "    # init new hold list\n",
    "    hold = []\n",
    "    # we're looping through the list of incoming nr -the last one and append the differences in the hold list\n",
    "    for i in range(0,len(incoming)-1):\n",
    "        hold.append(incoming[i+1]-incoming[i])\n",
    "    # if the hold list only contains zeroes we are done\n",
    "    if not np.any(hold):\n",
    "        # track results\n",
    "        r = 0\n",
    "        # === PART 2 CHANGES HERE ====\n",
    "        for line in reversed(history):\n",
    "            # we now set the r to the first value - r \n",
    "            r = line[0] -r\n",
    "        # return the value\n",
    "        return r\n",
    "    # if not done go again\n",
    "    else:\n",
    "        # append the hold to the existing history list\n",
    "        history.append(hold)\n",
    "        # call the function again\n",
    "        return calc_missing_value(hold, history)\n",
    "\n",
    "# loop through the data\n",
    "for idx,line in enumerate(data):\n",
    "    # find the score for the line\n",
    "    score =calc_missing_value(line,[line])\n",
    "    # append it to the list\n",
    "    scores.append(score)\n",
    "\n",
    "print(\"The answer to part 2 is:\",sum(scores))"
   ]
  }
 ],
 "metadata": {
  "kernelspec": {
   "display_name": "Python 3",
   "language": "python",
   "name": "python3"
  },
  "language_info": {
   "codemirror_mode": {
    "name": "ipython",
    "version": 3
   },
   "file_extension": ".py",
   "mimetype": "text/x-python",
   "name": "python",
   "nbconvert_exporter": "python",
   "pygments_lexer": "ipython3",
   "version": "3.11.5"
  }
 },
 "nbformat": 4,
 "nbformat_minor": 2
}

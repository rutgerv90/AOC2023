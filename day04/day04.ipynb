{
 "cells": [
  {
   "cell_type": "markdown",
   "metadata": {},
   "source": [
    "# --- Day 4: Scratchcards ---\n",
    "\n",
    "https://adventofcode.com/2023/day/4\n",
    "\n",
    "## --- Part One ---"
   ]
  },
  {
   "cell_type": "code",
   "execution_count": 31,
   "metadata": {},
   "outputs": [
    {
     "name": "stdout",
     "output_type": "stream",
     "text": [
      "The answer to part 1 is: 20829\n"
     ]
    }
   ],
   "source": [
    "import re\n",
    "import math\n",
    "# init score list\n",
    "scores = []\n",
    "\n",
    "with open(\"input.txt\", 'r') as f:\n",
    "    lines = f.read().splitlines()\n",
    "    for line in lines:\n",
    "        # regex magic to filter out the 2 number lists\n",
    "        x = re.match(r\"^Card\\s+\\d+:\\s+([\\d\\s]+)\\|\\s([\\s\\d]+)$\",line,re.IGNORECASE)\n",
    "        line1 = [int(digit) for digit in x.group(1).split()]\n",
    "        line2 = [int(digit) for digit in x.group(2).split()]\n",
    "        # keep track of matches\n",
    "        matches = 0\n",
    "        for char in line2:\n",
    "            if char in line1:\n",
    "                matches +=1\n",
    "        if matches > 0:\n",
    "            # if there are >0 matches the scored is 2^matches\n",
    "            localscore = math.pow(2,matches-1)\n",
    "            # append score to scores list\n",
    "            scores.append(localscore)\n",
    "\n",
    "# print sum of all scores\n",
    "print(\"The answer to part 1 is:\",int(sum(scores)))"
   ]
  },
  {
   "cell_type": "markdown",
   "metadata": {},
   "source": [
    "# --- Part Two ---"
   ]
  },
  {
   "cell_type": "code",
   "execution_count": 76,
   "metadata": {},
   "outputs": [
    {
     "name": "stdout",
     "output_type": "stream",
     "text": [
      "The answer to part 2 is: 12648035\n"
     ]
    }
   ],
   "source": [
    "import re\n",
    "import math\n",
    "import numpy as np\n",
    "# init score list\n",
    "scores = []\n",
    "\n",
    "\n",
    "with open(\"input.txt\", 'r') as f:\n",
    "    lines = f.read().splitlines()\n",
    "    # init a array of zeroes of size of the amount of cards\n",
    "    cardList = [x for x in np.zeros((len(lines),), dtype=int)]\n",
    "    for line in lines:\n",
    "        # regex magic to filter out the curernt card nr and the 2 number lists\n",
    "        x = re.match(r\"^Card\\s+(\\d+):\\s+([\\d\\s]+)\\|\\s([\\s\\d]+)$\",line,re.IGNORECASE)\n",
    "        currentCard = int(x.group(1))\n",
    "        line1 = [int(digit) for digit in x.group(2).split()]\n",
    "        line2 = [int(digit) for digit in x.group(3).split()]\n",
    "        # keep track of matches\n",
    "        matches = 0\n",
    "        # the amount of cards is equal to base 1 + grab the amount extra from previous iterations\n",
    "        cards = cardList.pop(0)+1\n",
    "        # find the number of matches\n",
    "        for char in line2:\n",
    "            if char in line1:\n",
    "                matches +=1\n",
    "        # for the amount of matches add the nr of cards to the list for the next iterations\n",
    "        for i in range(matches):\n",
    "            cardList[i]+=(cards)\n",
    "        # the score is the amount of cards\n",
    "        localscore = cards\n",
    "        # append it to the localscore\n",
    "        scores.append(localscore)\n",
    "\n",
    "# print sum of all scores\n",
    "print(\"The answer to part 2 is:\",int(sum(scores)))"
   ]
  }
 ],
 "metadata": {
  "kernelspec": {
   "display_name": "Python 3",
   "language": "python",
   "name": "python3"
  },
  "language_info": {
   "codemirror_mode": {
    "name": "ipython",
    "version": 3
   },
   "file_extension": ".py",
   "mimetype": "text/x-python",
   "name": "python",
   "nbconvert_exporter": "python",
   "pygments_lexer": "ipython3",
   "version": "3.11.5"
  }
 },
 "nbformat": 4,
 "nbformat_minor": 2
}

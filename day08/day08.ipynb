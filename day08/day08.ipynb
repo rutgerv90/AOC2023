{
 "cells": [
  {
   "cell_type": "markdown",
   "metadata": {},
   "source": [
    "# --- Day 8: Haunted Wasteland ---\n",
    "https://adventofcode.com/2023/day/8\n",
    "\n",
    "## --- Part One ---"
   ]
  },
  {
   "cell_type": "code",
   "execution_count": 35,
   "metadata": {},
   "outputs": [
    {
     "name": "stdout",
     "output_type": "stream",
     "text": [
      "The answer to part 1 is: 20513 steps\n"
     ]
    }
   ],
   "source": [
    "import re\n",
    "\n",
    "# init list of directions \n",
    "directions = []\n",
    "# init dict list of locations\n",
    "locations = dict()\n",
    "# init start and goal\n",
    "start = 'AAA'\n",
    "goal = 'ZZZ'\n",
    "\n",
    "with open(\"input.txt\", 'r') as f:\n",
    "# with open(\"sample.txt\", 'r') as f:\n",
    "    lines = f.read().splitlines()\n",
    "    # grab the directions\n",
    "    directions= [char for char in lines.pop(0)]\n",
    "    for line in lines[1:]:\n",
    "        # regex match all the data we need\n",
    "        items = re.match(r\"^([A-Z]{3}) = \\(([A-Z]{3}),\\s([A-Z]{3})\\)\",line)\n",
    "        # store them in a dict\n",
    "        locations[items.group(1)] = [items.group(2), items.group(3)]\n",
    "\n",
    "# convert all 'L'/'R' directions to 0/1\n",
    "num_directions = []\n",
    "for direction in directions:\n",
    "    if direction == 'L':\n",
    "        num_directions.append(0)\n",
    "    else:\n",
    "        num_directions.append(1)\n",
    "\n",
    "# we start at the star\n",
    "next = start\n",
    "# found status\n",
    "found = False\n",
    "# nr of steps taken\n",
    "step = 0\n",
    "\n",
    "# while loop\n",
    "while not found:\n",
    "    # look for the next direction in the list, will be 0 or 1\n",
    "    next_direction = num_directions[step%len(num_directions)]\n",
    "    # next location lookup in dict\n",
    "    next =locations[next][next_direction]\n",
    "    # up the step counter\n",
    "    step +=1\n",
    "    # if goal is found break out of while loop\n",
    "    if next == goal:\n",
    "        found = True\n",
    "\n",
    "\n",
    "# print the number of steps\n",
    "print(\"The answer to part 1 is:\",step, 'steps')"
   ]
  },
  {
   "cell_type": "markdown",
   "metadata": {},
   "source": [
    "## --- Part Two ---"
   ]
  },
  {
   "cell_type": "code",
   "execution_count": 156,
   "metadata": {},
   "outputs": [
    {
     "name": "stdout",
     "output_type": "stream",
     "text": [
      "We now have a mapping for each how many steps it takes to get to a Z from their starting location\n",
      "{'MSA': 14893, 'AAA': 20513, 'PKA': 22199, 'NBA': 19951, 'RHA': 17141, 'CDA': 12083}\n",
      "\n",
      "We can now calculat the lowest common multiplier between these numbers with some math\n",
      "The answer to part 2 is: 15995167053923 steps\n"
     ]
    }
   ],
   "source": [
    "import re\n",
    "from collections import Counter\n",
    "import math\n",
    "import numpy as np\n",
    "\n",
    "# init list of directions\n",
    "directions = []\n",
    "# init dict list of locations\n",
    "locations = dict()\n",
    "\n",
    "with open(\"input.txt\", \"r\") as f:\n",
    "    # with open(\"sample2.txt\", 'r') as f:\n",
    "    lines = f.read().splitlines()\n",
    "    # grab the directions\n",
    "    directions = [char for char in lines.pop(0)]\n",
    "    for line in lines[1:]:\n",
    "        # regex match all the data we need\n",
    "        items = re.match(r\"^([A-Z\\d]{3}) = \\(([A-Z\\d]{3}),\\s([A-Z\\d]{3})\\)\", line)\n",
    "        # store them in a dict\n",
    "        locations[items.group(1)] = [items.group(2), items.group(3)]\n",
    "\n",
    "# convert all 'L'/'R' directions to [0,1]\n",
    "num_directions = []\n",
    "for direction in directions:\n",
    "    if direction == \"L\":\n",
    "        num_directions.append(0)\n",
    "    else:\n",
    "        num_directions.append(1)\n",
    "\n",
    "# figure out the starting locations for part 2\n",
    "starting_locations = []\n",
    "for loc in locations:\n",
    "    if loc[2] == \"A\":\n",
    "        starting_locations.append(loc)\n",
    "\n",
    "# for all starting locations find the amount of cycles that it takes to find a Z\n",
    "until_z = dict()\n",
    "\n",
    "# loop through all the starting locations\n",
    "for loc in starting_locations:\n",
    "    # keep track of steps taken\n",
    "    steps_taken = 0\n",
    "    next = loc\n",
    "    # are we done\n",
    "    done = False\n",
    "    # loop until \"\"..Z\" location is found\n",
    "    while not done:\n",
    "        next_direction = num_directions[steps_taken % len(num_directions)]\n",
    "        next = locations[next][next_direction]\n",
    "        steps_taken += 1\n",
    "        # if found, store the steps taken in the dict for the starting location and exit the loop\n",
    "        if next[2] == \"Z\":\n",
    "            until_z[loc] = steps_taken\n",
    "            done = True\n",
    "\n",
    "print('We now have a mapping for each how many steps it takes to get to a Z from their starting location')\n",
    "print(until_z)\n",
    "print('\\nWe can now calculate the lowest common multiplier between these numbers with some math (default python funcs)')\n",
    "result = math.lcm(*list(until_z.values()))\n",
    "print(\"The answer to part 2 is:\",result, 'steps')"
   ]
  }
 ],
 "metadata": {
  "kernelspec": {
   "display_name": "Python 3",
   "language": "python",
   "name": "python3"
  },
  "language_info": {
   "codemirror_mode": {
    "name": "ipython",
    "version": 3
   },
   "file_extension": ".py",
   "mimetype": "text/x-python",
   "name": "python",
   "nbconvert_exporter": "python",
   "pygments_lexer": "ipython3",
   "version": "3.11.5"
  }
 },
 "nbformat": 4,
 "nbformat_minor": 2
}
